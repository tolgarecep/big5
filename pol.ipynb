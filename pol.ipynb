{
 "cells": [
  {
   "cell_type": "markdown",
   "id": "fe849795",
   "metadata": {},
   "source": [
    "This dataset is used in \"Facial recognition technology can infer political orientation from naturalistic facial images\" by Michal Kosinski and is available at https://osf.io/c58d3/."
   ]
  },
  {
   "cell_type": "markdown",
   "id": "1592ff60",
   "metadata": {},
   "source": [
    "In the research, the predictive power of big five personality traits (and of some other features) are compared to the predictive power of facial features extracted from face images. The results showed that the face recognition algorithm did better at predicting political orientation than all other features, and combinations of relevant features. "
   ]
  },
  {
   "cell_type": "markdown",
   "id": "440cc5e8",
   "metadata": {},
   "source": [
    "Big five personality traits combined gives an accuracy of 66% while face recognition algorithms gives 73%. Among five personality traits, most powerful predictor of political orientation is opennes, reaching to 65% accuracy on its own."
   ]
  },
  {
   "cell_type": "markdown",
   "id": "2b4baa62",
   "metadata": {},
   "source": [
    "Five of the features in the dataset are informative about subjects' personality traits, expressed in big-five factor structure (extraversion, neuroticism, agreeableness, conscientiousness and openness to experience.)"
   ]
  },
  {
   "cell_type": "markdown",
   "id": "af68fa9e",
   "metadata": {},
   "source": [
    "# Exploring the dataset"
   ]
  },
  {
   "cell_type": "code",
   "execution_count": 1,
   "id": "698a96ab",
   "metadata": {},
   "outputs": [],
   "source": [
    "import numpy as np\n",
    "import pandas as pd\n",
    "import matplotlib.pyplot as plt\n",
    "import seaborn as sns\n",
    "from sklearn.preprocessing import LabelEncoder"
   ]
  },
  {
   "cell_type": "code",
   "execution_count": 2,
   "id": "60129ede",
   "metadata": {},
   "outputs": [],
   "source": [
    "faces = pd.read_csv('faces.csv') # original dataset used in the research, containing other traits of subjects such as emotion, head position and existence of facial hair of glasses\n",
    "big5 = faces[['gender','age','country','ext', 'neu', 'ope', 'agr', 'con', 'pol']]"
   ]
  },
  {
   "cell_type": "code",
   "execution_count": 3,
   "id": "1cf8b6c8",
   "metadata": {},
   "outputs": [
    {
     "name": "stdout",
     "output_type": "stream",
     "text": [
      "<class 'pandas.core.frame.DataFrame'>\n",
      "RangeIndex: 1085795 entries, 0 to 1085794\n",
      "Data columns (total 9 columns):\n",
      " #   Column   Non-Null Count    Dtype  \n",
      "---  ------   --------------    -----  \n",
      " 0   gender   1085179 non-null  float64\n",
      " 1   age      417992 non-null   float64\n",
      " 2   country  1085795 non-null  object \n",
      " 3   ext      98973 non-null    float64\n",
      " 4   neu      98973 non-null    float64\n",
      " 5   ope      98973 non-null    float64\n",
      " 6   agr      98973 non-null    float64\n",
      " 7   con      98973 non-null    float64\n",
      " 8   pol      1085795 non-null  object \n",
      "dtypes: float64(7), object(2)\n",
      "memory usage: 74.6+ MB\n"
     ]
    }
   ],
   "source": [
    "big5.info()"
   ]
  },
  {
   "cell_type": "markdown",
   "id": "8bfca667",
   "metadata": {},
   "source": [
    "- No missing data in 'country' and 'pol' columns\n",
    "- Imputable amount of missing data in 'gender' column (we could assign them an extra class like \"other\")\n",
    "- Huge amount of missing data in rest"
   ]
  },
  {
   "cell_type": "code",
   "execution_count": 4,
   "id": "914b7287",
   "metadata": {},
   "outputs": [
    {
     "name": "stdout",
     "output_type": "stream",
     "text": [
      "<class 'pandas.core.frame.DataFrame'>\n",
      "Int64Index: 115007 entries, 658 to 1085765\n",
      "Data columns (total 9 columns):\n",
      " #   Column   Non-Null Count   Dtype  \n",
      "---  ------   --------------   -----  \n",
      " 0   gender   115007 non-null  float64\n",
      " 1   age      141 non-null     float64\n",
      " 2   country  115007 non-null  object \n",
      " 3   ext      0 non-null       float64\n",
      " 4   neu      0 non-null       float64\n",
      " 5   ope      0 non-null       float64\n",
      " 6   agr      0 non-null       float64\n",
      " 7   con      0 non-null       float64\n",
      " 8   pol      115007 non-null  object \n",
      "dtypes: float64(7), object(2)\n",
      "memory usage: 8.8+ MB\n"
     ]
    }
   ],
   "source": [
    "big5[big5.country != 'united states'].info()"
   ]
  },
  {
   "cell_type": "markdown",
   "id": "be490798",
   "metadata": {},
   "source": [
    "Big five data is only present for subjects from United States."
   ]
  },
  {
   "cell_type": "markdown",
   "id": "9a6c0ea8",
   "metadata": {},
   "source": [
    "## Discrete variables: gender, country, pol"
   ]
  },
  {
   "cell_type": "code",
   "execution_count": 5,
   "id": "bbc34aa6",
   "metadata": {},
   "outputs": [],
   "source": [
    "def show_class_distr(feature):\n",
    "    plt.pie(big5[feature].value_counts(), labels=big5[feature].value_counts().index)"
   ]
  },
  {
   "cell_type": "code",
   "execution_count": 6,
   "id": "2065fdbb",
   "metadata": {},
   "outputs": [
    {
     "data": {
      "image/png": "[encoded data removed]",
      "text/plain": [
       "<Figure size 432x288 with 1 Axes>"
      ]
     },
     "metadata": {},
     "output_type": "display_data"
    }
   ],
   "source": [
    "show_class_distr('gender') # encoding: 1 for male, 0 for female"
   ]
  },
  {
   "cell_type": "code",
   "execution_count": 7,
   "id": "cb832fc5",
   "metadata": {},
   "outputs": [
    {
     "data": {
      "image/png": "[encoded data removed]",
      "text/plain": [
       "<Figure size 432x288 with 1 Axes>"
      ]
     },
     "metadata": {},
     "output_type": "display_data"
    }
   ],
   "source": [
    "show_class_distr('country')"
   ]
  },
  {
   "cell_type": "code",
   "execution_count": 8,
   "id": "c75681e9",
   "metadata": {},
   "outputs": [
    {
     "data": {
      "image/png": "[encoded data removed]",
      "text/plain": [
       "<Figure size 432x288 with 1 Axes>"
      ]
     },
     "metadata": {},
     "output_type": "display_data"
    }
   ],
   "source": [
    "show_class_distr('pol')"
   ]
  },
  {
   "cell_type": "markdown",
   "id": "e488b92e",
   "metadata": {},
   "source": [
    "## Continous Variables"
   ]
  },
  {
   "cell_type": "code",
   "execution_count": 9,
   "id": "8836aa25",
   "metadata": {},
   "outputs": [
    {
     "data": {
      "text/plain": [
       "age    0.604056\n",
       "ext   -0.455947\n",
       "neu    0.194758\n",
       "ope   -0.627616\n",
       "agr   -0.466859\n",
       "con   -0.213306\n",
       "dtype: float64"
      ]
     },
     "execution_count": 9,
     "metadata": {},
     "output_type": "execute_result"
    }
   ],
   "source": [
    "big5.drop(['gender','country','pol'],axis=1).skew()"
   ]
  },
  {
   "cell_type": "markdown",
   "id": "6f039143",
   "metadata": {},
   "source": [
    "- High skewnesses excluding 'neu' and 'con'"
   ]
  },
  {
   "cell_type": "code",
   "execution_count": 10,
   "id": "78f0f91f",
   "metadata": {},
   "outputs": [
    {
     "data": {
      "text/plain": [
       "<AxesSubplot:xlabel='age'>"
      ]
     },
     "execution_count": 10,
     "metadata": {},
     "output_type": "execute_result"
    },
    {
     "data": {
      "image/png": "[encoded data removed]",
      "text/plain": [
       "<Figure size 432x288 with 1 Axes>"
      ]
     },
     "metadata": {
      "needs_background": "light"
     },
     "output_type": "display_data"
    }
   ],
   "source": [
    "sns.boxplot(data=big5, x='age')"
   ]
  },
  {
   "cell_type": "code",
   "execution_count": 11,
   "id": "0b0acc70",
   "metadata": {},
   "outputs": [
    {
     "data": {
      "text/plain": [
       "<AxesSubplot:xlabel='ext'>"
      ]
     },
     "execution_count": 11,
     "metadata": {},
     "output_type": "execute_result"
    },
    {
     "data": {
      "image/png": "[encoded data removed]",
      "text/plain": [
       "<Figure size 432x288 with 1 Axes>"
      ]
     },
     "metadata": {
      "needs_background": "light"
     },
     "output_type": "display_data"
    }
   ],
   "source": [
    "sns.boxplot(data=big5, x='ext')"
   ]
  },
  {
   "cell_type": "code",
   "execution_count": 12,
   "id": "242f4650",
   "metadata": {},
   "outputs": [
    {
     "data": {
      "text/plain": [
       "<AxesSubplot:xlabel='neu'>"
      ]
     },
     "execution_count": 12,
     "metadata": {},
     "output_type": "execute_result"
    },
    {
     "data": {
      "image/png": "[encoded data removed]",
      "text/plain": [
       "<Figure size 432x288 with 1 Axes>"
      ]
     },
     "metadata": {
      "needs_background": "light"
     },
     "output_type": "display_data"
    }
   ],
   "source": [
    "sns.boxplot(data=big5, x='neu')"
   ]
  },
  {
   "cell_type": "code",
   "execution_count": 13,
   "id": "2302c16f",
   "metadata": {},
   "outputs": [
    {
     "data": {
      "text/plain": [
       "<AxesSubplot:xlabel='ope'>"
      ]
     },
     "execution_count": 13,
     "metadata": {},
     "output_type": "execute_result"
    },
    {
     "data": {
      "image/png": "[encoded data removed]",
      "text/plain": [
       "<Figure size 432x288 with 1 Axes>"
      ]
     },
     "metadata": {
      "needs_background": "light"
     },
     "output_type": "display_data"
    }
   ],
   "source": [
    "sns.boxplot(data=big5, x='ope')"
   ]
  },
  {
   "cell_type": "code",
   "execution_count": 14,
   "id": "a9eff728",
   "metadata": {},
   "outputs": [
    {
     "data": {
      "text/plain": [
       "<AxesSubplot:xlabel='agr'>"
      ]
     },
     "execution_count": 14,
     "metadata": {},
     "output_type": "execute_result"
    },
    {
     "data": {
      "image/png": "[encoded data removed]",
      "text/plain": [
       "<Figure size 432x288 with 1 Axes>"
      ]
     },
     "metadata": {
      "needs_background": "light"
     },
     "output_type": "display_data"
    }
   ],
   "source": [
    "sns.boxplot(data=big5, x='agr')"
   ]
  },
  {
   "cell_type": "code",
   "execution_count": 15,
   "id": "86f5ae11",
   "metadata": {},
   "outputs": [
    {
     "data": {
      "text/plain": [
       "<AxesSubplot:xlabel='con'>"
      ]
     },
     "execution_count": 15,
     "metadata": {},
     "output_type": "execute_result"
    },
    {
     "data": {
      "image/png": "[encoded data removed]",
      "text/plain": [
       "<Figure size 432x288 with 1 Axes>"
      ]
     },
     "metadata": {
      "needs_background": "light"
     },
     "output_type": "display_data"
    }
   ],
   "source": [
    "sns.boxplot(data=big5, x='con')"
   ]
  },
  {
   "cell_type": "markdown",
   "id": "69030a08",
   "metadata": {},
   "source": [
    "- Outliers exist at any column except 'age'\n",
    "- Scales are similar if you're not including 'age' column "
   ]
  },
  {
   "cell_type": "markdown",
   "id": "f108eee0",
   "metadata": {},
   "source": [
    "## Insights related to big five personality traits"
   ]
  },
  {
   "cell_type": "code",
   "execution_count": 16,
   "id": "bed7fb94",
   "metadata": {},
   "outputs": [
    {
     "name": "stderr",
     "output_type": "stream",
     "text": [
      "C:\\Users\\tlgru\\miniconda3\\envs\\mlpy3810\\lib\\site-packages\\pandas\\core\\indexing.py:1773: SettingWithCopyWarning: \n",
      "A value is trying to be set on a copy of a slice from a DataFrame.\n",
      "Try using .loc[row_indexer,col_indexer] = value instead\n",
      "\n",
      "See the caveats in the documentation: https://pandas.pydata.org/pandas-docs/stable/user_guide/indexing.html#returning-a-view-versus-a-copy\n",
      "  self._setitem_single_column(ilocs[0], value, pi)\n"
     ]
    }
   ],
   "source": [
    "le = LabelEncoder()\n",
    "le.fit(big5.loc[:,'pol'])\n",
    "big5.loc[:,'pol'] = le.transform(big5.loc[:,'pol'])"
   ]
  },
  {
   "cell_type": "code",
   "execution_count": 17,
   "id": "2f046129",
   "metadata": {},
   "outputs": [
    {
     "data": {
      "text/plain": [
       "['conservative', 'liberal']"
      ]
     },
     "execution_count": 17,
     "metadata": {},
     "output_type": "execute_result"
    }
   ],
   "source": [
    "list(le.inverse_transform([0,1]))"
   ]
  },
  {
   "cell_type": "code",
   "execution_count": 18,
   "id": "452f3b2b",
   "metadata": {},
   "outputs": [
    {
     "data": {
      "text/plain": [
       "<AxesSubplot:>"
      ]
     },
     "execution_count": 18,
     "metadata": {},
     "output_type": "execute_result"
    },
    {
     "data": {
      "image/png": "[encoded data removed]",
      "text/plain": [
       "<Figure size 504x360 with 2 Axes>"
      ]
     },
     "metadata": {
      "needs_background": "light"
     },
     "output_type": "display_data"
    }
   ],
   "source": [
    "corr = big5.corr()\n",
    "plt.subplots(figsize=(7, 5))\n",
    "sns.heatmap(corr)"
   ]
  },
  {
   "cell_type": "code",
   "execution_count": 19,
   "id": "9e34a2c6",
   "metadata": {},
   "outputs": [
    {
     "data": {
      "text/plain": [
       "<AxesSubplot:xlabel='pol', ylabel='ope'>"
      ]
     },
     "execution_count": 19,
     "metadata": {},
     "output_type": "execute_result"
    },
    {
     "data": {
      "image/png": "[encoded data removed]",
      "text/plain": [
       "<Figure size 432x288 with 1 Axes>"
      ]
     },
     "metadata": {
      "needs_background": "light"
     },
     "output_type": "display_data"
    }
   ],
   "source": [
    "sns.boxplot(data=big5, x='pol', y='ope')"
   ]
  },
  {
   "cell_type": "markdown",
   "id": "efe3b3c9",
   "metadata": {},
   "source": [
    "- Openness is the greatest determinator of political orientation among five personality traits"
   ]
  },
  {
   "cell_type": "markdown",
   "id": "db7a9b82",
   "metadata": {},
   "source": [
    "# Modeling"
   ]
  },
  {
   "cell_type": "code",
   "execution_count": 20,
   "id": "b74eb98a",
   "metadata": {},
   "outputs": [],
   "source": [
    "from sklearn.linear_model import LogisticRegressionCV"
   ]
  },
  {
   "cell_type": "markdown",
   "id": "ada70c9f",
   "metadata": {},
   "source": [
    "We'll develop a model to predict political orientation using big five personality traits."
   ]
  },
  {
   "cell_type": "code",
   "execution_count": 21,
   "id": "453b9efe",
   "metadata": {},
   "outputs": [],
   "source": [
    "data = big5[['ext', 'neu', 'ope', 'agr', 'con', 'pol']].dropna()"
   ]
  },
  {
   "cell_type": "code",
   "execution_count": 22,
   "id": "60be7214",
   "metadata": {},
   "outputs": [
    {
     "data": {
      "text/html": [
       "<div>\n",
       "<style scoped>\n",
       "    .dataframe tbody tr th:only-of-type {\n",
       "        vertical-align: middle;\n",
       "    }\n",
       "\n",
       "    .dataframe tbody tr th {\n",
       "        vertical-align: top;\n",
       "    }\n",
       "\n",
       "    .dataframe thead th {\n",
       "        text-align: right;\n",
       "    }\n",
       "</style>\n",
       "<table border=\"1\" class=\"dataframe\">\n",
       "  <thead>\n",
       "    <tr style=\"text-align: right;\">\n",
       "      <th></th>\n",
       "      <th>ext</th>\n",
       "      <th>neu</th>\n",
       "      <th>ope</th>\n",
       "      <th>agr</th>\n",
       "      <th>con</th>\n",
       "      <th>pol</th>\n",
       "    </tr>\n",
       "  </thead>\n",
       "  <tbody>\n",
       "    <tr>\n",
       "      <th>0</th>\n",
       "      <td>1.022968</td>\n",
       "      <td>-1.084406</td>\n",
       "      <td>1.049730</td>\n",
       "      <td>0.265963</td>\n",
       "      <td>0.328752</td>\n",
       "      <td>1</td>\n",
       "    </tr>\n",
       "    <tr>\n",
       "      <th>1</th>\n",
       "      <td>0.367612</td>\n",
       "      <td>1.467204</td>\n",
       "      <td>0.532329</td>\n",
       "      <td>-2.072064</td>\n",
       "      <td>-0.724279</td>\n",
       "      <td>1</td>\n",
       "    </tr>\n",
       "    <tr>\n",
       "      <th>2</th>\n",
       "      <td>0.558261</td>\n",
       "      <td>-1.740534</td>\n",
       "      <td>-0.570139</td>\n",
       "      <td>0.650702</td>\n",
       "      <td>0.679762</td>\n",
       "      <td>0</td>\n",
       "    </tr>\n",
       "    <tr>\n",
       "      <th>3</th>\n",
       "      <td>0.558261</td>\n",
       "      <td>0.634025</td>\n",
       "      <td>0.438256</td>\n",
       "      <td>-0.503514</td>\n",
       "      <td>-2.128320</td>\n",
       "      <td>1</td>\n",
       "    </tr>\n",
       "    <tr>\n",
       "      <th>4</th>\n",
       "      <td>1.301793</td>\n",
       "      <td>-0.990673</td>\n",
       "      <td>0.802995</td>\n",
       "      <td>-0.657410</td>\n",
       "      <td>1.171176</td>\n",
       "      <td>1</td>\n",
       "    </tr>\n",
       "    <tr>\n",
       "      <th>...</th>\n",
       "      <td>...</td>\n",
       "      <td>...</td>\n",
       "      <td>...</td>\n",
       "      <td>...</td>\n",
       "      <td>...</td>\n",
       "      <td>...</td>\n",
       "    </tr>\n",
       "    <tr>\n",
       "      <th>1085787</th>\n",
       "      <td>0.248456</td>\n",
       "      <td>-1.240627</td>\n",
       "      <td>-0.377042</td>\n",
       "      <td>-0.118775</td>\n",
       "      <td>0.679762</td>\n",
       "      <td>1</td>\n",
       "    </tr>\n",
       "    <tr>\n",
       "      <th>1085788</th>\n",
       "      <td>-0.990764</td>\n",
       "      <td>-0.053347</td>\n",
       "      <td>-0.827602</td>\n",
       "      <td>0.035120</td>\n",
       "      <td>-0.654077</td>\n",
       "      <td>0</td>\n",
       "    </tr>\n",
       "    <tr>\n",
       "      <th>1085790</th>\n",
       "      <td>0.868066</td>\n",
       "      <td>0.321583</td>\n",
       "      <td>0.438256</td>\n",
       "      <td>-2.042469</td>\n",
       "      <td>1.381782</td>\n",
       "      <td>1</td>\n",
       "    </tr>\n",
       "    <tr>\n",
       "      <th>1085791</th>\n",
       "      <td>1.487676</td>\n",
       "      <td>-1.553069</td>\n",
       "      <td>-1.599990</td>\n",
       "      <td>-2.811947</td>\n",
       "      <td>1.381782</td>\n",
       "      <td>0</td>\n",
       "    </tr>\n",
       "    <tr>\n",
       "      <th>1085793</th>\n",
       "      <td>-0.474422</td>\n",
       "      <td>-0.303301</td>\n",
       "      <td>-0.640815</td>\n",
       "      <td>0.650702</td>\n",
       "      <td>0.055744</td>\n",
       "      <td>1</td>\n",
       "    </tr>\n",
       "  </tbody>\n",
       "</table>\n",
       "<p>98973 rows × 6 columns</p>\n",
       "</div>"
      ],
      "text/plain": [
       "              ext       neu       ope       agr       con  pol\n",
       "0        1.022968 -1.084406  1.049730  0.265963  0.328752    1\n",
       "1        0.367612  1.467204  0.532329 -2.072064 -0.724279    1\n",
       "2        0.558261 -1.740534 -0.570139  0.650702  0.679762    0\n",
       "3        0.558261  0.634025  0.438256 -0.503514 -2.128320    1\n",
       "4        1.301793 -0.990673  0.802995 -0.657410  1.171176    1\n",
       "...           ...       ...       ...       ...       ...  ...\n",
       "1085787  0.248456 -1.240627 -0.377042 -0.118775  0.679762    1\n",
       "1085788 -0.990764 -0.053347 -0.827602  0.035120 -0.654077    0\n",
       "1085790  0.868066  0.321583  0.438256 -2.042469  1.381782    1\n",
       "1085791  1.487676 -1.553069 -1.599990 -2.811947  1.381782    0\n",
       "1085793 -0.474422 -0.303301 -0.640815  0.650702  0.055744    1\n",
       "\n",
       "[98973 rows x 6 columns]"
      ]
     },
     "execution_count": 22,
     "metadata": {},
     "output_type": "execute_result"
    }
   ],
   "source": [
    "data"
   ]
  },
  {
   "cell_type": "code",
   "execution_count": 23,
   "id": "35869cfa",
   "metadata": {},
   "outputs": [],
   "source": [
    "X = data.drop('pol',axis=1).to_numpy()\n",
    "y = data.pol.to_numpy()"
   ]
  },
  {
   "cell_type": "code",
   "execution_count": 24,
   "id": "0765574f",
   "metadata": {},
   "outputs": [],
   "source": [
    "logreg = LogisticRegressionCV(cv=3, penalty='elasticnet', solver='saga', l1_ratios=[.3,.5,.7], scoring='roc_auc').fit(X, y)"
   ]
  },
  {
   "cell_type": "code",
   "execution_count": 25,
   "id": "26ca7e3a",
   "metadata": {},
   "outputs": [
    {
     "data": {
      "text/plain": [
       "0.6725778327055456"
      ]
     },
     "execution_count": 25,
     "metadata": {},
     "output_type": "execute_result"
    }
   ],
   "source": [
    "logreg.scores_[1].max()"
   ]
  },
  {
   "cell_type": "code",
   "execution_count": 26,
   "id": "00d1db82",
   "metadata": {},
   "outputs": [],
   "source": [
    "## pip install xgboost"
   ]
  },
  {
   "cell_type": "code",
   "execution_count": 46,
   "id": "ce8557ce",
   "metadata": {},
   "outputs": [],
   "source": [
    "import xgboost as xgb\n",
    "# from sklearn.model_selection import train_test_split\n",
    "# from sklearn.metrics import roc_curve, auc"
   ]
  },
  {
   "cell_type": "code",
   "execution_count": 28,
   "id": "821b283c",
   "metadata": {},
   "outputs": [],
   "source": [
    "# X_train, X_test, Y_train, Y_test = train_test_split(X, y, test_size=0.2)"
   ]
  },
  {
   "cell_type": "code",
   "execution_count": 29,
   "id": "43512d2b",
   "metadata": {},
   "outputs": [],
   "source": [
    "# D_train = xgb.DMatrix(X_train, label=Y_train)\n",
    "# D_test = xgb.DMatrix(X_test, label=Y_test)"
   ]
  },
  {
   "cell_type": "code",
   "execution_count": 30,
   "id": "bfa7f9fe",
   "metadata": {},
   "outputs": [],
   "source": [
    "# param = {\n",
    "#    'eta': 0.3, \n",
    "#    'max_depth': 3,  \n",
    "#    'objective': 'multi:softprob',  \n",
    "#    'num_class': 3} \n",
    "# steps = 20"
   ]
  },
  {
   "cell_type": "code",
   "execution_count": 31,
   "id": "c64a6236",
   "metadata": {},
   "outputs": [],
   "source": [
    "# model = xgb.train(param, D_train, steps)"
   ]
  },
  {
   "cell_type": "code",
   "execution_count": 32,
   "id": "d654075a",
   "metadata": {},
   "outputs": [],
   "source": [
    "# preds = model.predict(D_test)\n",
    "# best_preds = np.asarray([np.argmax(line) for line in preds])"
   ]
  },
  {
   "cell_type": "code",
   "execution_count": 33,
   "id": "38b3516d",
   "metadata": {},
   "outputs": [],
   "source": [
    "# fpr, tpr, thresholds = roc_curve(Y_test, best_preds)"
   ]
  },
  {
   "cell_type": "code",
   "execution_count": 34,
   "id": "a13fe618",
   "metadata": {},
   "outputs": [],
   "source": [
    "# auc(fpr, tpr)"
   ]
  },
  {
   "cell_type": "markdown",
   "id": "aa5e8942",
   "metadata": {},
   "source": [
    "## Predicting gender"
   ]
  },
  {
   "cell_type": "code",
   "execution_count": 35,
   "id": "cb9accb5",
   "metadata": {},
   "outputs": [],
   "source": [
    "gender_data = big5[['ext', 'neu', 'ope', 'agr', 'con', 'gender']].dropna()"
   ]
  },
  {
   "cell_type": "code",
   "execution_count": 36,
   "id": "717bf711",
   "metadata": {},
   "outputs": [
    {
     "data": {
      "text/html": [
       "<div>\n",
       "<style scoped>\n",
       "    .dataframe tbody tr th:only-of-type {\n",
       "        vertical-align: middle;\n",
       "    }\n",
       "\n",
       "    .dataframe tbody tr th {\n",
       "        vertical-align: top;\n",
       "    }\n",
       "\n",
       "    .dataframe thead th {\n",
       "        text-align: right;\n",
       "    }\n",
       "</style>\n",
       "<table border=\"1\" class=\"dataframe\">\n",
       "  <thead>\n",
       "    <tr style=\"text-align: right;\">\n",
       "      <th></th>\n",
       "      <th>ext</th>\n",
       "      <th>neu</th>\n",
       "      <th>ope</th>\n",
       "      <th>agr</th>\n",
       "      <th>con</th>\n",
       "      <th>gender</th>\n",
       "    </tr>\n",
       "  </thead>\n",
       "  <tbody>\n",
       "    <tr>\n",
       "      <th>0</th>\n",
       "      <td>1.022968</td>\n",
       "      <td>-1.084406</td>\n",
       "      <td>1.049730</td>\n",
       "      <td>0.265963</td>\n",
       "      <td>0.328752</td>\n",
       "      <td>0.0</td>\n",
       "    </tr>\n",
       "    <tr>\n",
       "      <th>1</th>\n",
       "      <td>0.367612</td>\n",
       "      <td>1.467204</td>\n",
       "      <td>0.532329</td>\n",
       "      <td>-2.072064</td>\n",
       "      <td>-0.724279</td>\n",
       "      <td>1.0</td>\n",
       "    </tr>\n",
       "    <tr>\n",
       "      <th>2</th>\n",
       "      <td>0.558261</td>\n",
       "      <td>-1.740534</td>\n",
       "      <td>-0.570139</td>\n",
       "      <td>0.650702</td>\n",
       "      <td>0.679762</td>\n",
       "      <td>0.0</td>\n",
       "    </tr>\n",
       "    <tr>\n",
       "      <th>3</th>\n",
       "      <td>0.558261</td>\n",
       "      <td>0.634025</td>\n",
       "      <td>0.438256</td>\n",
       "      <td>-0.503514</td>\n",
       "      <td>-2.128320</td>\n",
       "      <td>1.0</td>\n",
       "    </tr>\n",
       "    <tr>\n",
       "      <th>4</th>\n",
       "      <td>1.301793</td>\n",
       "      <td>-0.990673</td>\n",
       "      <td>0.802995</td>\n",
       "      <td>-0.657410</td>\n",
       "      <td>1.171176</td>\n",
       "      <td>1.0</td>\n",
       "    </tr>\n",
       "    <tr>\n",
       "      <th>...</th>\n",
       "      <td>...</td>\n",
       "      <td>...</td>\n",
       "      <td>...</td>\n",
       "      <td>...</td>\n",
       "      <td>...</td>\n",
       "      <td>...</td>\n",
       "    </tr>\n",
       "    <tr>\n",
       "      <th>1085787</th>\n",
       "      <td>0.248456</td>\n",
       "      <td>-1.240627</td>\n",
       "      <td>-0.377042</td>\n",
       "      <td>-0.118775</td>\n",
       "      <td>0.679762</td>\n",
       "      <td>0.0</td>\n",
       "    </tr>\n",
       "    <tr>\n",
       "      <th>1085788</th>\n",
       "      <td>-0.990764</td>\n",
       "      <td>-0.053347</td>\n",
       "      <td>-0.827602</td>\n",
       "      <td>0.035120</td>\n",
       "      <td>-0.654077</td>\n",
       "      <td>0.0</td>\n",
       "    </tr>\n",
       "    <tr>\n",
       "      <th>1085790</th>\n",
       "      <td>0.868066</td>\n",
       "      <td>0.321583</td>\n",
       "      <td>0.438256</td>\n",
       "      <td>-2.042469</td>\n",
       "      <td>1.381782</td>\n",
       "      <td>0.0</td>\n",
       "    </tr>\n",
       "    <tr>\n",
       "      <th>1085791</th>\n",
       "      <td>1.487676</td>\n",
       "      <td>-1.553069</td>\n",
       "      <td>-1.599990</td>\n",
       "      <td>-2.811947</td>\n",
       "      <td>1.381782</td>\n",
       "      <td>0.0</td>\n",
       "    </tr>\n",
       "    <tr>\n",
       "      <th>1085793</th>\n",
       "      <td>-0.474422</td>\n",
       "      <td>-0.303301</td>\n",
       "      <td>-0.640815</td>\n",
       "      <td>0.650702</td>\n",
       "      <td>0.055744</td>\n",
       "      <td>0.0</td>\n",
       "    </tr>\n",
       "  </tbody>\n",
       "</table>\n",
       "<p>98417 rows × 6 columns</p>\n",
       "</div>"
      ],
      "text/plain": [
       "              ext       neu       ope       agr       con  gender\n",
       "0        1.022968 -1.084406  1.049730  0.265963  0.328752     0.0\n",
       "1        0.367612  1.467204  0.532329 -2.072064 -0.724279     1.0\n",
       "2        0.558261 -1.740534 -0.570139  0.650702  0.679762     0.0\n",
       "3        0.558261  0.634025  0.438256 -0.503514 -2.128320     1.0\n",
       "4        1.301793 -0.990673  0.802995 -0.657410  1.171176     1.0\n",
       "...           ...       ...       ...       ...       ...     ...\n",
       "1085787  0.248456 -1.240627 -0.377042 -0.118775  0.679762     0.0\n",
       "1085788 -0.990764 -0.053347 -0.827602  0.035120 -0.654077     0.0\n",
       "1085790  0.868066  0.321583  0.438256 -2.042469  1.381782     0.0\n",
       "1085791  1.487676 -1.553069 -1.599990 -2.811947  1.381782     0.0\n",
       "1085793 -0.474422 -0.303301 -0.640815  0.650702  0.055744     0.0\n",
       "\n",
       "[98417 rows x 6 columns]"
      ]
     },
     "execution_count": 36,
     "metadata": {},
     "output_type": "execute_result"
    }
   ],
   "source": [
    "gender_data"
   ]
  },
  {
   "cell_type": "code",
   "execution_count": 39,
   "id": "425bfa2d",
   "metadata": {},
   "outputs": [],
   "source": [
    "X_gender = gender_data.drop('gender',axis=1).to_numpy()\n",
    "y_gender = gender_data.gender.to_numpy()"
   ]
  },
  {
   "cell_type": "code",
   "execution_count": 40,
   "id": "a14ccb52",
   "metadata": {},
   "outputs": [],
   "source": [
    "logreg = LogisticRegressionCV(cv=3, penalty='elasticnet', solver='saga', l1_ratios=[.3,.5,.7], scoring='roc_auc').fit(X_gender, \n",
    "                                                                                                                      y_gender)"
   ]
  },
  {
   "cell_type": "code",
   "execution_count": 41,
   "id": "6f0e06f6",
   "metadata": {},
   "outputs": [
    {
     "data": {
      "text/plain": [
       "0.6499813751475636"
      ]
     },
     "execution_count": 41,
     "metadata": {},
     "output_type": "execute_result"
    }
   ],
   "source": [
    "logreg.scores_[1].max()"
   ]
  },
  {
   "cell_type": "markdown",
   "id": "23e15950",
   "metadata": {},
   "source": [
    "## Predicting age"
   ]
  },
  {
   "cell_type": "code",
   "execution_count": 61,
   "id": "a7c06dc4",
   "metadata": {},
   "outputs": [],
   "source": [
    "from sklearn.metrics import mean_absolute_error\n",
    "from sklearn.neighbors import KNeighborsRegressor"
   ]
  },
  {
   "cell_type": "code",
   "execution_count": 42,
   "id": "5ee2dba6",
   "metadata": {},
   "outputs": [],
   "source": [
    "age_data = big5[['ext', 'neu', 'ope', 'agr', 'con', 'age']].dropna()"
   ]
  },
  {
   "cell_type": "code",
   "execution_count": 43,
   "id": "d13b3984",
   "metadata": {},
   "outputs": [
    {
     "data": {
      "text/html": [
       "<div>\n",
       "<style scoped>\n",
       "    .dataframe tbody tr th:only-of-type {\n",
       "        vertical-align: middle;\n",
       "    }\n",
       "\n",
       "    .dataframe tbody tr th {\n",
       "        vertical-align: top;\n",
       "    }\n",
       "\n",
       "    .dataframe thead th {\n",
       "        text-align: right;\n",
       "    }\n",
       "</style>\n",
       "<table border=\"1\" class=\"dataframe\">\n",
       "  <thead>\n",
       "    <tr style=\"text-align: right;\">\n",
       "      <th></th>\n",
       "      <th>ext</th>\n",
       "      <th>neu</th>\n",
       "      <th>ope</th>\n",
       "      <th>agr</th>\n",
       "      <th>con</th>\n",
       "      <th>age</th>\n",
       "    </tr>\n",
       "  </thead>\n",
       "  <tbody>\n",
       "    <tr>\n",
       "      <th>3</th>\n",
       "      <td>0.558261</td>\n",
       "      <td>0.634025</td>\n",
       "      <td>0.438256</td>\n",
       "      <td>-0.503514</td>\n",
       "      <td>-2.128320</td>\n",
       "      <td>24.36</td>\n",
       "    </tr>\n",
       "    <tr>\n",
       "      <th>5</th>\n",
       "      <td>-0.061349</td>\n",
       "      <td>-0.928185</td>\n",
       "      <td>-0.377042</td>\n",
       "      <td>-0.503514</td>\n",
       "      <td>-0.022259</td>\n",
       "      <td>54.42</td>\n",
       "    </tr>\n",
       "    <tr>\n",
       "      <th>6</th>\n",
       "      <td>-0.185271</td>\n",
       "      <td>0.883979</td>\n",
       "      <td>-1.514169</td>\n",
       "      <td>-0.195723</td>\n",
       "      <td>0.960570</td>\n",
       "      <td>27.79</td>\n",
       "    </tr>\n",
       "    <tr>\n",
       "      <th>7</th>\n",
       "      <td>0.310417</td>\n",
       "      <td>0.696514</td>\n",
       "      <td>0.211785</td>\n",
       "      <td>-0.204273</td>\n",
       "      <td>-0.443471</td>\n",
       "      <td>54.47</td>\n",
       "    </tr>\n",
       "    <tr>\n",
       "      <th>8</th>\n",
       "      <td>1.177871</td>\n",
       "      <td>0.009141</td>\n",
       "      <td>-1.192341</td>\n",
       "      <td>-0.888253</td>\n",
       "      <td>-0.256265</td>\n",
       "      <td>38.13</td>\n",
       "    </tr>\n",
       "    <tr>\n",
       "      <th>...</th>\n",
       "      <td>...</td>\n",
       "      <td>...</td>\n",
       "      <td>...</td>\n",
       "      <td>...</td>\n",
       "      <td>...</td>\n",
       "      <td>...</td>\n",
       "    </tr>\n",
       "    <tr>\n",
       "      <th>1085772</th>\n",
       "      <td>-0.618998</td>\n",
       "      <td>-0.553255</td>\n",
       "      <td>-1.857453</td>\n",
       "      <td>-0.195723</td>\n",
       "      <td>0.047943</td>\n",
       "      <td>26.96</td>\n",
       "    </tr>\n",
       "    <tr>\n",
       "      <th>1085774</th>\n",
       "      <td>0.713163</td>\n",
       "      <td>-1.709290</td>\n",
       "      <td>-0.580867</td>\n",
       "      <td>0.458333</td>\n",
       "      <td>-0.373269</td>\n",
       "      <td>20.89</td>\n",
       "    </tr>\n",
       "    <tr>\n",
       "      <th>1085775</th>\n",
       "      <td>-0.185271</td>\n",
       "      <td>-0.865697</td>\n",
       "      <td>-0.422337</td>\n",
       "      <td>-1.536234</td>\n",
       "      <td>0.188347</td>\n",
       "      <td>38.70</td>\n",
       "    </tr>\n",
       "    <tr>\n",
       "      <th>1085785</th>\n",
       "      <td>0.868066</td>\n",
       "      <td>0.634025</td>\n",
       "      <td>0.178843</td>\n",
       "      <td>-2.683700</td>\n",
       "      <td>-0.139262</td>\n",
       "      <td>25.31</td>\n",
       "    </tr>\n",
       "    <tr>\n",
       "      <th>1085793</th>\n",
       "      <td>-0.474422</td>\n",
       "      <td>-0.303301</td>\n",
       "      <td>-0.640815</td>\n",
       "      <td>0.650702</td>\n",
       "      <td>0.055744</td>\n",
       "      <td>29.11</td>\n",
       "    </tr>\n",
       "  </tbody>\n",
       "</table>\n",
       "<p>68140 rows × 6 columns</p>\n",
       "</div>"
      ],
      "text/plain": [
       "              ext       neu       ope       agr       con    age\n",
       "3        0.558261  0.634025  0.438256 -0.503514 -2.128320  24.36\n",
       "5       -0.061349 -0.928185 -0.377042 -0.503514 -0.022259  54.42\n",
       "6       -0.185271  0.883979 -1.514169 -0.195723  0.960570  27.79\n",
       "7        0.310417  0.696514  0.211785 -0.204273 -0.443471  54.47\n",
       "8        1.177871  0.009141 -1.192341 -0.888253 -0.256265  38.13\n",
       "...           ...       ...       ...       ...       ...    ...\n",
       "1085772 -0.618998 -0.553255 -1.857453 -0.195723  0.047943  26.96\n",
       "1085774  0.713163 -1.709290 -0.580867  0.458333 -0.373269  20.89\n",
       "1085775 -0.185271 -0.865697 -0.422337 -1.536234  0.188347  38.70\n",
       "1085785  0.868066  0.634025  0.178843 -2.683700 -0.139262  25.31\n",
       "1085793 -0.474422 -0.303301 -0.640815  0.650702  0.055744  29.11\n",
       "\n",
       "[68140 rows x 6 columns]"
      ]
     },
     "execution_count": 43,
     "metadata": {},
     "output_type": "execute_result"
    }
   ],
   "source": [
    "age_data"
   ]
  },
  {
   "cell_type": "code",
   "execution_count": 45,
   "id": "10360249",
   "metadata": {},
   "outputs": [],
   "source": [
    "X_age = age_data.drop('age',axis=1).to_numpy()\n",
    "y_age = age_data.age.to_numpy()"
   ]
  },
  {
   "cell_type": "code",
   "execution_count": 47,
   "id": "ceb7d83c",
   "metadata": {},
   "outputs": [],
   "source": [
    "X_train, X_test, Y_train, Y_test = train_test_split(X_age, y_age, test_size=0.2)"
   ]
  },
  {
   "cell_type": "code",
   "execution_count": 92,
   "id": "229ae861",
   "metadata": {},
   "outputs": [],
   "source": [
    "xgb_r = xgb.XGBRegressor(objective ='reg:squarederror', n_estimators = 10, seed = 123)"
   ]
  },
  {
   "cell_type": "code",
   "execution_count": 93,
   "id": "e522112e",
   "metadata": {},
   "outputs": [
    {
     "data": {
      "text/plain": [
       "XGBRegressor(base_score=0.5, booster='gbtree', colsample_bylevel=1,\n",
       "             colsample_bynode=1, colsample_bytree=1, enable_categorical=False,\n",
       "             gamma=0, gpu_id=-1, importance_type=None,\n",
       "             interaction_constraints='', learning_rate=0.300000012,\n",
       "             max_delta_step=0, max_depth=6, min_child_weight=1, missing=nan,\n",
       "             monotone_constraints='()', n_estimators=10, n_jobs=12,\n",
       "             num_parallel_tree=1, predictor='auto', random_state=123,\n",
       "             reg_alpha=0, reg_lambda=1, scale_pos_weight=1, seed=123,\n",
       "             subsample=1, tree_method='exact', validate_parameters=1,\n",
       "             verbosity=None)"
      ]
     },
     "execution_count": 93,
     "metadata": {},
     "output_type": "execute_result"
    }
   ],
   "source": [
    "xgb_r.fit(X_train, Y_train)"
   ]
  },
  {
   "cell_type": "code",
   "execution_count": 94,
   "id": "98beadd3",
   "metadata": {},
   "outputs": [],
   "source": [
    "pred = xgb_r.predict(X_test)"
   ]
  },
  {
   "cell_type": "code",
   "execution_count": 95,
   "id": "8aa02942",
   "metadata": {},
   "outputs": [
    {
     "data": {
      "text/plain": [
       "6.76837642081294"
      ]
     },
     "execution_count": 95,
     "metadata": {},
     "output_type": "execute_result"
    }
   ],
   "source": [
    "mean_absolute_error(Y_test, pred)"
   ]
  },
  {
   "cell_type": "code",
   "execution_count": 84,
   "id": "97b3145d",
   "metadata": {},
   "outputs": [],
   "source": [
    "knn = KNeighborsRegressor(n_neighbors=150, )"
   ]
  },
  {
   "cell_type": "code",
   "execution_count": 85,
   "id": "9b2714ee",
   "metadata": {},
   "outputs": [
    {
     "data": {
      "text/plain": [
       "KNeighborsRegressor(n_neighbors=250)"
      ]
     },
     "execution_count": 85,
     "metadata": {},
     "output_type": "execute_result"
    }
   ],
   "source": [
    "knn.fit(X_train, Y_train)"
   ]
  },
  {
   "cell_type": "code",
   "execution_count": 86,
   "id": "635bf49b",
   "metadata": {},
   "outputs": [],
   "source": [
    "pred_knn = knn.predict(X_test)"
   ]
  },
  {
   "cell_type": "code",
   "execution_count": 87,
   "id": "fd7c8048",
   "metadata": {},
   "outputs": [
    {
     "data": {
      "text/plain": [
       "6.960700137951276"
      ]
     },
     "execution_count": 87,
     "metadata": {},
     "output_type": "execute_result"
    }
   ],
   "source": [
    "mean_absolute_error(Y_test, pred_knn)"
   ]
  },
  {
   "cell_type": "code",
   "execution_count": null,
   "id": "f15c3e57",
   "metadata": {},
   "outputs": [],
   "source": []
  }
 ],
 "metadata": {
  "kernelspec": {
   "display_name": "Python 3 (ipykernel)",
   "language": "python",
   "name": "python3"
  },
  "language_info": {
   "codemirror_mode": {
    "name": "ipython",
    "version": 3
   },
   "file_extension": ".py",
   "mimetype": "text/x-python",
   "name": "python",
   "nbconvert_exporter": "python",
   "pygments_lexer": "ipython3",
   "version": "3.8.10"
  }
 },
 "nbformat": 4,
 "nbformat_minor": 5
}
